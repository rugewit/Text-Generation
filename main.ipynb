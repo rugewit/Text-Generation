{
 "cells": [
  {
   "cell_type": "markdown",
   "metadata": {},
   "source": [
    "Чернобаев А.А. М8О-114М-23"
   ]
  },
  {
   "cell_type": "code",
   "execution_count": 137,
   "metadata": {},
   "outputs": [],
   "source": [
    "import tensorflow as tf"
   ]
  },
  {
   "cell_type": "markdown",
   "metadata": {},
   "source": [
    "Импортируем книгу из Проекта Гутерберг - Библия"
   ]
  },
  {
   "cell_type": "code",
   "execution_count": 138,
   "metadata": {},
   "outputs": [],
   "source": [
    "file = tf.keras.utils.get_file('/home/rugewit/Programming/ML-2sem/ai-lab-m3-generative-networks-marmot/data/bible.txt', 'https://gutenberg.org/cache/epub/10/pg10.txt')\n",
    "\n",
    "file_text = open(file, 'rb').read().decode(encoding = 'utf-8') "
   ]
  },
  {
   "cell_type": "code",
   "execution_count": 139,
   "metadata": {},
   "outputs": [
    {
     "name": "stdout",
     "output_type": "stream",
     "text": [
      "The Project Gutenberg eBook of The King James Version of the Bible\n",
      "    \n",
      "This ebook is for the use of anyone anywhere in the United States and\n",
      "most other parts of the world at no cost and with almost no restrictions\n",
      "whatsoever. You may copy it, give it away or re-use it under the terms\n",
      "of the Project Gutenberg License included with this ebook or online\n",
      "at www.gutenberg.org. If you are not located in the United States,\n",
      "you will have to check the laws of the country where you are located\n",
      "before using this eBook.\n",
      "\n",
      "Title: The King James Version of the Bible\n",
      "\n",
      "Release date: August 1, 1989 [eBook #10]\n",
      "                Most recently updated: April 6, 2024\n",
      "\n",
      "Language: English\n",
      "\n",
      "\n",
      "\n",
      "*** START OF THE PROJECT GUTENBERG EBOOK THE KING JAMES VERSION OF THE BIBLE ***\n",
      "The Old Testament of the King James Version of the Bible\n",
      "The First Book of Moses: Called Genesis\n",
      "The Second Book of Moses: Called Exodus\n",
      "The Third Book of Moses: Called Leviticus\n",
      "The Fourth Book of Moses: Called Number\n"
     ]
    }
   ],
   "source": [
    "print(file_text[:1000])"
   ]
  },
  {
   "cell_type": "markdown",
   "metadata": {},
   "source": [
    "Преобразование ids в char и обратно"
   ]
  },
  {
   "cell_type": "code",
   "execution_count": 140,
   "metadata": {},
   "outputs": [],
   "source": [
    "unique_chars = sorted(set(file_text))\n",
    "\n",
    "chars_to_ids = tf.keras.layers.StringLookup(vocabulary = list(unique_chars), mask_token = None)\n",
    "ids_to_chars = tf.keras.layers.StringLookup(vocabulary = chars_to_ids.get_vocabulary(), invert = True, mask_token = None)"
   ]
  },
  {
   "cell_type": "code",
   "execution_count": 141,
   "metadata": {},
   "outputs": [],
   "source": [
    "def ids_to_text(ids):\n",
    "  return tf.strings.reduce_join(ids_to_chars(ids), axis=-1)"
   ]
  },
  {
   "cell_type": "markdown",
   "metadata": {},
   "source": [
    "Преобразование датасета"
   ]
  },
  {
   "cell_type": "code",
   "execution_count": 142,
   "metadata": {},
   "outputs": [],
   "source": [
    "full_ids = chars_to_ids(tf.strings.unicode_split(file_text, 'UTF-8'))\n",
    "ids_full_dataset = tf.data.Dataset.from_tensor_slices(full_ids)"
   ]
  },
  {
   "cell_type": "code",
   "execution_count": 143,
   "metadata": {},
   "outputs": [],
   "source": [
    "seq_length = 100 # длина последовательности\n",
    "\n",
    "sequences = ids_full_dataset.batch(seq_length + 1, drop_remainder=True) "
   ]
  },
  {
   "cell_type": "markdown",
   "metadata": {},
   "source": [
    "Преобразование датасета в Input и Target"
   ]
  },
  {
   "cell_type": "code",
   "execution_count": 144,
   "metadata": {},
   "outputs": [],
   "source": [
    "def split_into_x_y(sequence):\n",
    "    input_text = sequence[:-1]\n",
    "    target_text = sequence[1:]\n",
    "    return input_text, target_text"
   ]
  },
  {
   "cell_type": "code",
   "execution_count": 145,
   "metadata": {},
   "outputs": [],
   "source": [
    "dataset_xy = sequences.map(split_into_x_y)"
   ]
  },
  {
   "cell_type": "markdown",
   "metadata": {},
   "source": [
    "Создаем датасет"
   ]
  },
  {
   "cell_type": "code",
   "execution_count": 146,
   "metadata": {},
   "outputs": [],
   "source": [
    "BATCH_SIZE = 256\n",
    "\n",
    "BUFFER_SIZE = 10000\n",
    "\n",
    "dataset = (\n",
    "    dataset_xy\n",
    "    .shuffle(BUFFER_SIZE)\n",
    "    .batch(BATCH_SIZE, drop_remainder=True)\n",
    "    .prefetch(tf.data.experimental.AUTOTUNE)) "
   ]
  },
  {
   "cell_type": "code",
   "execution_count": 147,
   "metadata": {},
   "outputs": [],
   "source": [
    "vocab_size = len(chars_to_ids.get_vocabulary())\n",
    "\n",
    "embedding_dim = 64\n",
    "\n",
    "rnn_units = 64"
   ]
  },
  {
   "cell_type": "code",
   "execution_count": 148,
   "metadata": {},
   "outputs": [],
   "source": [
    "def build_chars_simple_rnn_model(vocab_size, embedding_dim, rnn_units, batch_size):\n",
    "    model = tf.keras.models.Sequential([\n",
    "    tf.keras.layers.Embedding(vocab_size, embedding_dim, batch_input_shape=(batch_size, None)),        \n",
    "    tf.keras.layers.SimpleRNN(rnn_units, return_sequences=True, stateful=True),\n",
    "    tf.keras.layers.Dense(vocab_size)\n",
    "    ])\n",
    "\n",
    "    return model"
   ]
  },
  {
   "cell_type": "code",
   "execution_count": 149,
   "metadata": {},
   "outputs": [
    {
     "name": "stdout",
     "output_type": "stream",
     "text": [
      "Model: \"sequential_16\"\n",
      "_________________________________________________________________\n",
      " Layer (type)                Output Shape              Param #   \n",
      "=================================================================\n",
      " embedding_16 (Embedding)    (256, None, 64)           5760      \n",
      "                                                                 \n",
      " simple_rnn_9 (SimpleRNN)    (256, None, 64)           8256      \n",
      "                                                                 \n",
      " dense_16 (Dense)            (256, None, 90)           5850      \n",
      "                                                                 \n",
      "=================================================================\n",
      "Total params: 19,866\n",
      "Trainable params: 19,866\n",
      "Non-trainable params: 0\n",
      "_________________________________________________________________\n"
     ]
    }
   ],
   "source": [
    "model = build_chars_simple_rnn_model(vocab_size, embedding_dim, rnn_units, BATCH_SIZE)\n",
    "\n",
    "model.summary()"
   ]
  },
  {
   "cell_type": "code",
   "execution_count": 150,
   "metadata": {},
   "outputs": [],
   "source": [
    "def loss(labels, logits):\n",
    "    return tf.keras.losses.sparse_categorical_crossentropy(labels, logits, from_logits=True)"
   ]
  },
  {
   "cell_type": "code",
   "execution_count": 151,
   "metadata": {},
   "outputs": [],
   "source": [
    "model.compile(optimizer='adam', loss=loss)"
   ]
  },
  {
   "cell_type": "code",
   "execution_count": 152,
   "metadata": {},
   "outputs": [
    {
     "name": "stdout",
     "output_type": "stream",
     "text": [
      "Epoch 1/10\n",
      "172/172 [==============================] - 13s 61ms/step - loss: 3.0049\n",
      "Epoch 2/10\n",
      "172/172 [==============================] - 11s 56ms/step - loss: 2.1649\n",
      "Epoch 3/10\n",
      "172/172 [==============================] - 11s 57ms/step - loss: 1.9663\n",
      "Epoch 4/10\n",
      "172/172 [==============================] - 10s 55ms/step - loss: 1.8602\n",
      "Epoch 5/10\n",
      "172/172 [==============================] - 10s 54ms/step - loss: 1.7853\n",
      "Epoch 6/10\n",
      "172/172 [==============================] - 11s 59ms/step - loss: 1.7299\n",
      "Epoch 7/10\n",
      "172/172 [==============================] - 10s 54ms/step - loss: 1.6883\n",
      "Epoch 8/10\n",
      "172/172 [==============================] - 11s 57ms/step - loss: 1.6558\n",
      "Epoch 9/10\n",
      "172/172 [==============================] - 10s 54ms/step - loss: 1.6292\n",
      "Epoch 10/10\n",
      "172/172 [==============================] - 10s 54ms/step - loss: 1.6087\n"
     ]
    }
   ],
   "source": [
    "EPOCHS = 10\n",
    "h = model.fit(dataset, epochs=EPOCHS)"
   ]
  },
  {
   "cell_type": "code",
   "execution_count": 153,
   "metadata": {},
   "outputs": [
    {
     "data": {
      "image/png": "[encoded data removed]",
      "text/plain": [
       "<Figure size 640x480 with 1 Axes>"
      ]
     },
     "metadata": {},
     "output_type": "display_data"
    }
   ],
   "source": [
    "import matplotlib.pyplot as plt\n",
    "\n",
    "x_axis = range(1, EPOCHS + 1)\n",
    "plt.plot(x_axis, h.history['loss'], label='training')\n",
    "plt.grid()\n",
    "plt.xlabel('epochs')\n",
    "plt.ylabel('loss')\n",
    "plt.xlim((1, EPOCHS))\n",
    "plt.legend()\n",
    "plt.show()"
   ]
  },
  {
   "cell_type": "code",
   "execution_count": 154,
   "metadata": {},
   "outputs": [],
   "source": [
    "model.save_weights('chars-simle-rnn-weights.h5')"
   ]
  },
  {
   "cell_type": "code",
   "execution_count": 155,
   "metadata": {},
   "outputs": [],
   "source": [
    "simle_rnn_text_gen = build_chars_simple_rnn_model(vocab_size, embedding_dim, rnn_units, batch_size=1)\n",
    "simle_rnn_text_gen.load_weights('chars-simle-rnn-weights.h5')\n",
    "simle_rnn_text_gen.build(tf.TensorShape([1, None]))"
   ]
  },
  {
   "cell_type": "code",
   "execution_count": 156,
   "metadata": {},
   "outputs": [],
   "source": [
    "def generate_text(model, start_string, temperature = 1.0, prediction_length = 1000):\n",
    "    input_eval = [chars_to_ids(s) for s in start_string]\n",
    "    input_eval = tf.expand_dims(input_eval, 0)\n",
    "   \n",
    "    text_generated = []\n",
    "\n",
    "    model.reset_states()\n",
    "    for _ in range(prediction_length):\n",
    "        predictions = model(input_eval)\n",
    "        predictions = tf.squeeze(predictions, 0)\n",
    "        predictions = predictions / temperature\n",
    "        predicted_id = tf.random.categorical(predictions, num_samples=1)[-1,0].numpy()\n",
    "\n",
    "        input_eval = tf.expand_dims([predicted_id], 0)\n",
    "\n",
    "        text_generated.append(ids_to_chars(predicted_id))\n",
    "\n",
    "    return (start_string + tf.strings.join(text_generated).numpy().decode('utf-8'))"
   ]
  },
  {
   "cell_type": "code",
   "execution_count": 157,
   "metadata": {},
   "outputs": [
    {
     "name": "stdout",
     "output_type": "stream",
     "text": [
      "Heaven his and deenses of Philis saiveles of the your bomeitenglact there of that him.\n",
      "\n",
      "11:8 But the staber of hath that secve, tnom the Goked anay that he wan of the given that orer thit shall with eviled, but the broldin lish the ry.\n",
      "\n",
      "4:18 Septind:\n",
      "and dierd a goth therest theth which thou God, and down it thou the tigaine, ye lot, jedurding fearl, and the phildres, grod, for the LORD peary every aboow, and thy man shall lovesteme, and hand of the plethes, and a set me the gon with the man whic\n"
     ]
    }
   ],
   "source": [
    "print(generate_text(simle_rnn_text_gen, start_string=u\"Heaven\", temperature = 0.8, prediction_length = 500))"
   ]
  },
  {
   "cell_type": "code",
   "execution_count": 158,
   "metadata": {},
   "outputs": [],
   "source": [
    "def build_chars_lstm_model(vocab_size, embedding_dim, rnn_units, batch_size):\n",
    "    model = tf.keras.models.Sequential([\n",
    "    tf.keras.layers.Embedding(vocab_size, embedding_dim, batch_input_shape=(batch_size, None)),        \n",
    "    tf.keras.layers.LSTM(rnn_units, return_sequences=True, stateful=True),\n",
    "    tf.keras.layers.Dense(vocab_size)\n",
    "    ])\n",
    "\n",
    "    return model"
   ]
  },
  {
   "cell_type": "code",
   "execution_count": 159,
   "metadata": {},
   "outputs": [],
   "source": [
    "lstm_batch = 64\n",
    "\n",
    "BUFFER_SIZE = 10000\n",
    "\n",
    "dataset_lstm = (\n",
    "    dataset_xy\n",
    "    .shuffle(BUFFER_SIZE)\n",
    "    .batch(lstm_batch, drop_remainder=True)\n",
    "    .prefetch(tf.data.experimental.AUTOTUNE)) "
   ]
  },
  {
   "cell_type": "code",
   "execution_count": 160,
   "metadata": {},
   "outputs": [],
   "source": [
    "lstm_embedding_size = 256\n",
    "lstm_rnn_units = 512"
   ]
  },
  {
   "cell_type": "code",
   "execution_count": 161,
   "metadata": {},
   "outputs": [],
   "source": [
    "lstm_model = build_chars_lstm_model(vocab_size, lstm_embedding_size, lstm_rnn_units, lstm_batch)"
   ]
  },
  {
   "cell_type": "code",
   "execution_count": 162,
   "metadata": {},
   "outputs": [
    {
     "name": "stdout",
     "output_type": "stream",
     "text": [
      "Model: \"sequential_18\"\n",
      "_________________________________________________________________\n",
      " Layer (type)                Output Shape              Param #   \n",
      "=================================================================\n",
      " embedding_18 (Embedding)    (64, None, 256)           23040     \n",
      "                                                                 \n",
      " lstm_7 (LSTM)               (64, None, 512)           1574912   \n",
      "                                                                 \n",
      " dense_18 (Dense)            (64, None, 90)            46170     \n",
      "                                                                 \n",
      "=================================================================\n",
      "Total params: 1,644,122\n",
      "Trainable params: 1,644,122\n",
      "Non-trainable params: 0\n",
      "_________________________________________________________________\n"
     ]
    }
   ],
   "source": [
    "lstm_model.summary()"
   ]
  },
  {
   "cell_type": "code",
   "execution_count": 163,
   "metadata": {},
   "outputs": [
    {
     "name": "stdout",
     "output_type": "stream",
     "text": [
      "Epoch 1/10\n"
     ]
    },
    {
     "name": "stdout",
     "output_type": "stream",
     "text": [
      "688/688 [==============================] - 11s 13ms/step - loss: 1.8857\n",
      "Epoch 2/10\n",
      "688/688 [==============================] - 9s 11ms/step - loss: 1.3277\n",
      "Epoch 3/10\n",
      "688/688 [==============================] - 8s 11ms/step - loss: 1.2030\n",
      "Epoch 4/10\n",
      "688/688 [==============================] - 8s 10ms/step - loss: 1.1429\n",
      "Epoch 5/10\n",
      "688/688 [==============================] - 9s 11ms/step - loss: 1.1063\n",
      "Epoch 6/10\n",
      "688/688 [==============================] - 8s 10ms/step - loss: 1.0797\n",
      "Epoch 7/10\n",
      "688/688 [==============================] - 8s 10ms/step - loss: 1.0590\n",
      "Epoch 8/10\n",
      "688/688 [==============================] - 8s 10ms/step - loss: 1.0423\n",
      "Epoch 9/10\n",
      "688/688 [==============================] - 8s 11ms/step - loss: 1.0286\n",
      "Epoch 10/10\n",
      "688/688 [==============================] - 8s 11ms/step - loss: 1.0170\n"
     ]
    }
   ],
   "source": [
    "lstm_model.compile(optimizer='adam', loss=loss)\n",
    "EPOCHS = 10\n",
    "h = lstm_model.fit(dataset_lstm, epochs=EPOCHS)"
   ]
  },
  {
   "cell_type": "code",
   "execution_count": 164,
   "metadata": {},
   "outputs": [
    {
     "data": {
      "image/png": "[encoded data removed]",
      "text/plain": [
       "<Figure size 640x480 with 1 Axes>"
      ]
     },
     "metadata": {},
     "output_type": "display_data"
    }
   ],
   "source": [
    "x_axis = range(1, EPOCHS + 1)\n",
    "plt.plot(x_axis, h.history['loss'], label='training')\n",
    "plt.grid()\n",
    "plt.xlabel('epochs')\n",
    "plt.ylabel('loss')\n",
    "plt.xlim((1, EPOCHS))\n",
    "plt.legend()\n",
    "plt.show()"
   ]
  },
  {
   "cell_type": "code",
   "execution_count": 165,
   "metadata": {},
   "outputs": [],
   "source": [
    "lstm_model.save_weights('chars-lstm-weights.h5')\n",
    "\n",
    "lstm_text_gen = build_chars_lstm_model(vocab_size, lstm_embedding_size, lstm_rnn_units, batch_size=1)\n",
    "lstm_text_gen.load_weights('chars-lstm-weights.h5')\n",
    "lstm_text_gen.build(tf.TensorShape([1, None]))"
   ]
  },
  {
   "cell_type": "code",
   "execution_count": 166,
   "metadata": {},
   "outputs": [
    {
     "name": "stdout",
     "output_type": "stream",
     "text": [
      "Heaveng the river of\n",
      "Babylon: and if a man do we laid up to the innorth the\n",
      "power of all nd the fathers hald been collemies or a falter with\n",
      "strength winds; and she was perpetual and grace, and\n",
      "he was the shield, he shall not reserve tranks in the blood,\n",
      "which he rewarded me.\n",
      "\n",
      "13:7 The LORD is the Egyptians, who is alones.\n",
      "\n",
      "109:30 He breaketh bardself, and a fiery furnace of blaspheme, and priests and\n",
      "unrighteousness: who then saith, I was made in the midst of the nations.\n",
      "\n",
      "1:17 For whosoe\n"
     ]
    }
   ],
   "source": [
    "print(generate_text(lstm_text_gen, start_string=u\"Heaven\", temperature = 0.8, prediction_length = 500))"
   ]
  },
  {
   "cell_type": "code",
   "execution_count": null,
   "metadata": {},
   "outputs": [],
   "source": []
  }
 ],
 "metadata": {
  "kernelspec": {
   "display_name": "tf",
   "language": "python",
   "name": "python3"
  },
  "language_info": {
   "codemirror_mode": {
    "name": "ipython",
    "version": 3
   },
   "file_extension": ".py",
   "mimetype": "text/x-python",
   "name": "python",
   "nbconvert_exporter": "python",
   "pygments_lexer": "ipython3",
   "version": "3.9.undefined"
  }
 },
 "nbformat": 4,
 "nbformat_minor": 2
}
